{
 "cells": [
  {
   "attachments": {},
   "cell_type": "markdown",
   "metadata": {},
   "source": [
    "# MNIST Digit Recognizing with CNN"
   ]
  },
  {
   "cell_type": "code",
   "execution_count": 1,
   "metadata": {},
   "outputs": [],
   "source": [
    "import numpy as np\n",
    "import pandas as pd\n",
    "import matplotlib.pyplot as plt\n",
    "\n",
    "from sklearn.model_selection import train_test_split\n",
    "from sklearn.metrics import confusion_matrix, accuracy_score\n",
    "\n",
    "import tensorflow as tf\n",
    "from tensorflow import keras\n",
    "from keras.utils.np_utils import to_categorical\n",
    "from keras.models import Sequential\n",
    "from keras.layers import Dense, Conv2D, Dropout, Flatten, MaxPooling2D"
   ]
  },
  {
   "attachments": {},
   "cell_type": "markdown",
   "metadata": {},
   "source": [
    "## Loading, preparing and exploring the dataset"
   ]
  },
  {
   "cell_type": "code",
   "execution_count": 2,
   "metadata": {},
   "outputs": [
    {
     "data": {
      "text/plain": [
       "(42000, 784)"
      ]
     },
     "execution_count": 2,
     "metadata": {},
     "output_type": "execute_result"
    }
   ],
   "source": [
    "train = pd.read_csv(\"./data/train.csv\")\n",
    "test = pd.read_csv(\"./data/test.csv\")\n",
    "y_train = train[\"label\"]\n",
    "x_train = train.drop(labels = [\"label\"], axis = 1)\n",
    "del train\n",
    "\n",
    "x_train.shape"
   ]
  },
  {
   "cell_type": "code",
   "execution_count": 4,
   "metadata": {},
   "outputs": [
    {
     "name": "stdout",
     "output_type": "stream",
     "text": [
      "NaN values in train set (x_train): False\n",
      "NaN values in label set (y_train): False\n",
      "NaN values in test set: False\n"
     ]
    }
   ],
   "source": [
    "# check if there are NaN values in the data sets\n",
    "print(\"NaN values in train set (x_train):\", x_train.isnull().values.any())\n",
    "print(\"NaN values in label set (y_train):\", y_train.isnull().values.any())\n",
    "print(\"NaN values in test set:\", test.isnull().values.any())"
   ]
  },
  {
   "cell_type": "code",
   "execution_count": 5,
   "metadata": {},
   "outputs": [],
   "source": [
    "# Reshaping for Keras\n",
    "x_train = x_train.values.reshape(-1, 28, 28, 1)\n",
    "test = test.values.reshape(-1, 28, 28, 1)\n",
    "\n",
    "# Normalizing the values\n",
    "x_train = x_train.astype(\"float\")\n",
    "test = test.astype(\"float\")\n",
    "x_train /= 255.0\n",
    "test /= 255.0"
   ]
  },
  {
   "cell_type": "code",
   "execution_count": 6,
   "metadata": {},
   "outputs": [],
   "source": [
    "# making the labels categorical\n",
    "y_train = to_categorical(y_train, num_classes = 10)"
   ]
  },
  {
   "cell_type": "code",
   "execution_count": 7,
   "metadata": {},
   "outputs": [],
   "source": [
    "# splitting the training data into training and validation set\n",
    "x_train, x_val, y_train, y_val = train_test_split(x_train, y_train, test_size = 0.1, random_state = 2)"
   ]
  },
  {
   "cell_type": "code",
   "execution_count": 8,
   "metadata": {},
   "outputs": [
    {
     "name": "stdout",
     "output_type": "stream",
     "text": [
      "The label of this image is:  [0. 0. 1. 0. 0. 0. 0. 0. 0. 0.]\n"
     ]
    },
    {
     "data": {
      "text/plain": [
       "<matplotlib.image.AxesImage at 0x1b384305a80>"
      ]
     },
     "execution_count": 8,
     "metadata": {},
     "output_type": "execute_result"
    },
    {
     "data": {
      "image/png": "[encoded data removed]",
      "text/plain": [
       "<Figure size 640x480 with 1 Axes>"
      ]
     },
     "metadata": {},
     "output_type": "display_data"
    }
   ],
   "source": [
    "# checking out one random image and its label\n",
    "print(\"The label of this image is: \", y_train[123])\n",
    "plt.imshow(x_train[123], cmap= \"Greys\")"
   ]
  },
  {
   "attachments": {},
   "cell_type": "markdown",
   "metadata": {},
   "source": [
    "## CNN\n",
    "I'll try and compare the performance of having two Conv2D layers and Pooling layers once, twice and three times with ascending filter numbers (see below). The other layers use values that performed the best in trials, but were not changed when comparing the three setups.\n",
    "### Once the Conv2D layers and Pooling layer (32)"
   ]
  },
  {
   "cell_type": "code",
   "execution_count": 9,
   "metadata": {},
   "outputs": [],
   "source": [
    "model = Sequential()\n",
    "model.add(Conv2D(32, kernel_size = (3,3), padding = \"Same\", activation = \"relu\", input_shape = (28, 28, 1)))\n",
    "model.add(Conv2D(32, kernel_size = (3,3), padding = \"Same\", activation = \"relu\"))\n",
    "model.add(MaxPooling2D(pool_size = (2,2)))\n",
    "model.add(Dropout(0.4))\n",
    "\n",
    "model.add(Flatten())\n",
    "model.add(Dense(256, activation = \"relu\"))\n",
    "model.add(Dropout(0.4))\n",
    "model.add(Dense(10, activation = \"softmax\"))"
   ]
  },
  {
   "cell_type": "code",
   "execution_count": 10,
   "metadata": {},
   "outputs": [
    {
     "name": "stdout",
     "output_type": "stream",
     "text": [
      "Epoch 1/30\n",
      "1182/1182 [==============================] - 21s 17ms/step - loss: 0.1914 - accuracy: 0.9402 - val_loss: 0.0689 - val_accuracy: 0.9800\n",
      "Epoch 2/30\n",
      "1182/1182 [==============================] - 19s 16ms/step - loss: 0.0693 - accuracy: 0.9776 - val_loss: 0.0494 - val_accuracy: 0.9857\n",
      "Epoch 3/30\n",
      "1182/1182 [==============================] - 20s 17ms/step - loss: 0.0534 - accuracy: 0.9840 - val_loss: 0.0536 - val_accuracy: 0.9838\n",
      "Epoch 4/30\n",
      "1182/1182 [==============================] - 19s 16ms/step - loss: 0.0444 - accuracy: 0.9854 - val_loss: 0.0386 - val_accuracy: 0.9888\n",
      "Epoch 5/30\n",
      "1182/1182 [==============================] - 19s 16ms/step - loss: 0.0354 - accuracy: 0.9881 - val_loss: 0.0404 - val_accuracy: 0.9886\n",
      "Epoch 6/30\n",
      "1182/1182 [==============================] - 20s 17ms/step - loss: 0.0300 - accuracy: 0.9901 - val_loss: 0.0552 - val_accuracy: 0.9860\n",
      "Epoch 7/30\n",
      "1182/1182 [==============================] - 21s 18ms/step - loss: 0.0276 - accuracy: 0.9907 - val_loss: 0.0398 - val_accuracy: 0.9898\n",
      "Epoch 8/30\n",
      "1182/1182 [==============================] - 19s 16ms/step - loss: 0.0249 - accuracy: 0.9917 - val_loss: 0.0468 - val_accuracy: 0.9898\n",
      "Epoch 9/30\n",
      "1182/1182 [==============================] - 20s 17ms/step - loss: 0.0222 - accuracy: 0.9933 - val_loss: 0.0438 - val_accuracy: 0.9886\n",
      "Epoch 10/30\n",
      "1182/1182 [==============================] - 20s 17ms/step - loss: 0.0230 - accuracy: 0.9925 - val_loss: 0.0371 - val_accuracy: 0.9898\n",
      "Epoch 11/30\n",
      "1182/1182 [==============================] - 20s 17ms/step - loss: 0.0182 - accuracy: 0.9942 - val_loss: 0.0402 - val_accuracy: 0.9907\n",
      "Epoch 12/30\n",
      "1182/1182 [==============================] - 19s 16ms/step - loss: 0.0186 - accuracy: 0.9944 - val_loss: 0.0343 - val_accuracy: 0.9902\n",
      "Epoch 13/30\n",
      "1182/1182 [==============================] - 20s 17ms/step - loss: 0.0154 - accuracy: 0.9949 - val_loss: 0.0369 - val_accuracy: 0.9905\n",
      "Epoch 14/30\n",
      "1182/1182 [==============================] - 20s 17ms/step - loss: 0.0168 - accuracy: 0.9947 - val_loss: 0.0374 - val_accuracy: 0.9912\n",
      "Epoch 15/30\n",
      "1182/1182 [==============================] - 20s 17ms/step - loss: 0.0143 - accuracy: 0.9952 - val_loss: 0.0429 - val_accuracy: 0.9905\n",
      "Epoch 16/30\n",
      "1182/1182 [==============================] - 20s 17ms/step - loss: 0.0142 - accuracy: 0.9950 - val_loss: 0.0469 - val_accuracy: 0.9905\n",
      "Epoch 17/30\n",
      "1182/1182 [==============================] - 19s 16ms/step - loss: 0.0148 - accuracy: 0.9953 - val_loss: 0.0379 - val_accuracy: 0.9907\n",
      "Epoch 18/30\n",
      "1182/1182 [==============================] - 20s 17ms/step - loss: 0.0120 - accuracy: 0.9963 - val_loss: 0.0459 - val_accuracy: 0.9902\n",
      "Epoch 19/30\n",
      "1182/1182 [==============================] - 21s 17ms/step - loss: 0.0132 - accuracy: 0.9956 - val_loss: 0.0370 - val_accuracy: 0.9914\n",
      "Epoch 20/30\n",
      "1182/1182 [==============================] - 20s 17ms/step - loss: 0.0109 - accuracy: 0.9965 - val_loss: 0.0360 - val_accuracy: 0.9926\n",
      "Epoch 21/30\n",
      "1182/1182 [==============================] - 20s 17ms/step - loss: 0.0116 - accuracy: 0.9961 - val_loss: 0.0484 - val_accuracy: 0.9919\n",
      "Epoch 22/30\n",
      "1182/1182 [==============================] - 20s 17ms/step - loss: 0.0112 - accuracy: 0.9965 - val_loss: 0.0347 - val_accuracy: 0.9926\n",
      "Epoch 23/30\n",
      "1182/1182 [==============================] - 20s 17ms/step - loss: 0.0108 - accuracy: 0.9965 - val_loss: 0.0492 - val_accuracy: 0.9912\n",
      "Epoch 24/30\n",
      "1182/1182 [==============================] - 19s 16ms/step - loss: 0.0089 - accuracy: 0.9969 - val_loss: 0.0556 - val_accuracy: 0.9917\n",
      "Epoch 25/30\n",
      "1182/1182 [==============================] - 20s 17ms/step - loss: 0.0108 - accuracy: 0.9963 - val_loss: 0.0396 - val_accuracy: 0.9924\n",
      "Epoch 26/30\n",
      "1182/1182 [==============================] - 20s 17ms/step - loss: 0.0120 - accuracy: 0.9962 - val_loss: 0.0383 - val_accuracy: 0.9919\n",
      "Epoch 27/30\n",
      "1182/1182 [==============================] - 20s 17ms/step - loss: 0.0091 - accuracy: 0.9974 - val_loss: 0.0369 - val_accuracy: 0.9926\n",
      "Epoch 28/30\n",
      "1182/1182 [==============================] - 20s 17ms/step - loss: 0.0104 - accuracy: 0.9967 - val_loss: 0.0348 - val_accuracy: 0.9929\n",
      "Epoch 29/30\n",
      "1182/1182 [==============================] - 20s 17ms/step - loss: 0.0088 - accuracy: 0.9969 - val_loss: 0.0342 - val_accuracy: 0.9931\n",
      "Epoch 30/30\n",
      "1182/1182 [==============================] - 20s 17ms/step - loss: 0.0096 - accuracy: 0.9969 - val_loss: 0.0333 - val_accuracy: 0.9919\n"
     ]
    },
    {
     "data": {
      "text/plain": [
       "<keras.callbacks.History at 0x1b384959a50>"
      ]
     },
     "execution_count": 10,
     "metadata": {},
     "output_type": "execute_result"
    }
   ],
   "source": [
    "model.compile(optimizer = \"adam\", loss = \"categorical_crossentropy\", \n",
    "              metrics = [\"accuracy\"])\n",
    "model.fit(x_train, y_train, epochs = 30, validation_data = (x_val, y_val))"
   ]
  },
  {
   "attachments": {},
   "cell_type": "markdown",
   "metadata": {},
   "source": [
    "### Twice the Conv2D and Pooling layers (32, 64)"
   ]
  },
  {
   "cell_type": "code",
   "execution_count": 14,
   "metadata": {},
   "outputs": [],
   "source": [
    "model2triples = Sequential()\n",
    "model2triples.add(Conv2D(32, kernel_size = (3,3), padding = \"Same\", activation = \"relu\", input_shape = (28, 28, 1)))\n",
    "model2triples.add(Conv2D(32, kernel_size = (3,3), padding = \"Same\", activation = \"relu\"))\n",
    "model2triples.add(MaxPooling2D(pool_size = (2,2)))\n",
    "model2triples.add(Dropout(0.4))\n",
    "\n",
    "model2triples.add(Conv2D(64, kernel_size = (3,3), padding = \"Same\", activation = \"relu\"))\n",
    "model2triples.add(Conv2D(64, kernel_size = (3,3), padding = \"Same\", activation = \"relu\"))\n",
    "model2triples.add(MaxPooling2D(pool_size = (2,2)))\n",
    "model2triples.add(Dropout(0.4))\n",
    "\n",
    "model2triples.add(Flatten())\n",
    "model2triples.add(Dense(256, activation = \"relu\"))\n",
    "model2triples.add(Dropout(0.4))\n",
    "model2triples.add(Dense(10, activation = \"softmax\"))"
   ]
  },
  {
   "cell_type": "code",
   "execution_count": 15,
   "metadata": {},
   "outputs": [
    {
     "name": "stdout",
     "output_type": "stream",
     "text": [
      "Epoch 1/30\n",
      "1182/1182 [==============================] - 36s 30ms/step - loss: 0.2203 - accuracy: 0.9298 - val_loss: 0.0561 - val_accuracy: 0.9831\n",
      "Epoch 2/30\n",
      "1182/1182 [==============================] - 38s 32ms/step - loss: 0.0791 - accuracy: 0.9768 - val_loss: 0.0465 - val_accuracy: 0.9862\n",
      "Epoch 3/30\n",
      "1182/1182 [==============================] - 31s 27ms/step - loss: 0.0616 - accuracy: 0.9815 - val_loss: 0.0405 - val_accuracy: 0.9881\n",
      "Epoch 4/30\n",
      "1182/1182 [==============================] - 32s 27ms/step - loss: 0.0544 - accuracy: 0.9840 - val_loss: 0.0299 - val_accuracy: 0.9902\n",
      "Epoch 5/30\n",
      "1182/1182 [==============================] - 35s 30ms/step - loss: 0.0464 - accuracy: 0.9854 - val_loss: 0.0312 - val_accuracy: 0.9900\n",
      "Epoch 6/30\n",
      "1182/1182 [==============================] - 32s 27ms/step - loss: 0.0413 - accuracy: 0.9871 - val_loss: 0.0298 - val_accuracy: 0.9910\n",
      "Epoch 7/30\n",
      "1182/1182 [==============================] - 28s 24ms/step - loss: 0.0375 - accuracy: 0.9886 - val_loss: 0.0307 - val_accuracy: 0.9929\n",
      "Epoch 8/30\n",
      "1182/1182 [==============================] - 35s 29ms/step - loss: 0.0344 - accuracy: 0.9888 - val_loss: 0.0324 - val_accuracy: 0.9917\n",
      "Epoch 9/30\n",
      "1182/1182 [==============================] - 34s 29ms/step - loss: 0.0325 - accuracy: 0.9899 - val_loss: 0.0276 - val_accuracy: 0.9919\n",
      "Epoch 10/30\n",
      "1182/1182 [==============================] - 30s 26ms/step - loss: 0.0291 - accuracy: 0.9908 - val_loss: 0.0327 - val_accuracy: 0.9926\n",
      "Epoch 11/30\n",
      "1182/1182 [==============================] - 28s 23ms/step - loss: 0.0286 - accuracy: 0.9913 - val_loss: 0.0356 - val_accuracy: 0.9914\n",
      "Epoch 12/30\n",
      "1182/1182 [==============================] - 26s 22ms/step - loss: 0.0280 - accuracy: 0.9910 - val_loss: 0.0361 - val_accuracy: 0.9921\n",
      "Epoch 13/30\n",
      "1182/1182 [==============================] - 26s 22ms/step - loss: 0.0249 - accuracy: 0.9920 - val_loss: 0.0287 - val_accuracy: 0.9917\n",
      "Epoch 14/30\n",
      "1182/1182 [==============================] - 25s 21ms/step - loss: 0.0260 - accuracy: 0.9915 - val_loss: 0.0258 - val_accuracy: 0.9945\n",
      "Epoch 15/30\n",
      "1182/1182 [==============================] - 26s 22ms/step - loss: 0.0234 - accuracy: 0.9929 - val_loss: 0.0285 - val_accuracy: 0.9917\n",
      "Epoch 16/30\n",
      "1182/1182 [==============================] - 26s 22ms/step - loss: 0.0251 - accuracy: 0.9918 - val_loss: 0.0272 - val_accuracy: 0.9924\n",
      "Epoch 17/30\n",
      "1182/1182 [==============================] - 27s 23ms/step - loss: 0.0228 - accuracy: 0.9926 - val_loss: 0.0280 - val_accuracy: 0.9933\n",
      "Epoch 18/30\n",
      "1182/1182 [==============================] - 26s 22ms/step - loss: 0.0214 - accuracy: 0.9933 - val_loss: 0.0348 - val_accuracy: 0.9921\n",
      "Epoch 19/30\n",
      "1182/1182 [==============================] - 25s 21ms/step - loss: 0.0220 - accuracy: 0.9934 - val_loss: 0.0383 - val_accuracy: 0.9933\n",
      "Epoch 20/30\n",
      "1182/1182 [==============================] - 25s 21ms/step - loss: 0.0219 - accuracy: 0.9934 - val_loss: 0.0407 - val_accuracy: 0.9893\n",
      "Epoch 21/30\n",
      "1182/1182 [==============================] - 25s 22ms/step - loss: 0.0197 - accuracy: 0.9939 - val_loss: 0.0370 - val_accuracy: 0.9917\n",
      "Epoch 22/30\n",
      "1182/1182 [==============================] - 25s 22ms/step - loss: 0.0199 - accuracy: 0.9937 - val_loss: 0.0284 - val_accuracy: 0.9929\n",
      "Epoch 23/30\n",
      "1182/1182 [==============================] - 25s 21ms/step - loss: 0.0208 - accuracy: 0.9940 - val_loss: 0.0304 - val_accuracy: 0.9933\n",
      "Epoch 24/30\n",
      "1182/1182 [==============================] - 26s 22ms/step - loss: 0.0215 - accuracy: 0.9935 - val_loss: 0.0275 - val_accuracy: 0.9929\n",
      "Epoch 25/30\n",
      "1182/1182 [==============================] - 26s 22ms/step - loss: 0.0189 - accuracy: 0.9943 - val_loss: 0.0342 - val_accuracy: 0.9921\n",
      "Epoch 26/30\n",
      "1182/1182 [==============================] - 25s 21ms/step - loss: 0.0192 - accuracy: 0.9943 - val_loss: 0.0282 - val_accuracy: 0.9938\n",
      "Epoch 27/30\n",
      "1182/1182 [==============================] - 25s 21ms/step - loss: 0.0188 - accuracy: 0.9940 - val_loss: 0.0241 - val_accuracy: 0.9945\n",
      "Epoch 28/30\n",
      "1182/1182 [==============================] - 25s 21ms/step - loss: 0.0157 - accuracy: 0.9949 - val_loss: 0.0257 - val_accuracy: 0.9936\n",
      "Epoch 29/30\n",
      "1182/1182 [==============================] - 25s 21ms/step - loss: 0.0180 - accuracy: 0.9941 - val_loss: 0.0347 - val_accuracy: 0.9931\n",
      "Epoch 30/30\n",
      "1182/1182 [==============================] - 25s 21ms/step - loss: 0.0176 - accuracy: 0.9944 - val_loss: 0.0430 - val_accuracy: 0.9917\n"
     ]
    },
    {
     "data": {
      "text/plain": [
       "<keras.callbacks.History at 0x1b3aabd6650>"
      ]
     },
     "execution_count": 15,
     "metadata": {},
     "output_type": "execute_result"
    }
   ],
   "source": [
    "model2triples.compile(optimizer = \"adam\", loss = \"categorical_crossentropy\", \n",
    "              metrics = [\"accuracy\"])\n",
    "model2triples.fit(x_train, y_train, epochs = 30, validation_data = (x_val, y_val))"
   ]
  },
  {
   "attachments": {},
   "cell_type": "markdown",
   "metadata": {},
   "source": [
    "### Three times the Conv2D and Pooling layers (24, 48, 64)"
   ]
  },
  {
   "cell_type": "code",
   "execution_count": 16,
   "metadata": {},
   "outputs": [],
   "source": [
    "model3triples = Sequential()\n",
    "model3triples.add(Conv2D(24, kernel_size = (3,3), padding = \"Same\", activation = \"relu\", input_shape=(28, 28, 1)))\n",
    "model3triples.add(Conv2D(24, kernel_size = (3,3), padding = \"Same\", activation = \"relu\"))\n",
    "model3triples.add(MaxPooling2D(pool_size = (2,2)))\n",
    "model3triples.add(Dropout(0.4))\n",
    "\n",
    "model3triples.add(Conv2D(48, kernel_size = (3,3), padding = \"Same\", activation = \"relu\"))\n",
    "model3triples.add(Conv2D(48, kernel_size = (3,3), padding = \"Same\", activation = \"relu\"))\n",
    "model3triples.add(MaxPooling2D(pool_size = (2,2)))\n",
    "model3triples.add(Dropout(0.4))\n",
    "\n",
    "model3triples.add(Conv2D(64, kernel_size = (3,3), padding = \"Same\", activation = \"relu\"))\n",
    "model3triples.add(Conv2D(64, kernel_size = (3,3), padding = \"Same\", activation = \"relu\"))\n",
    "model3triples.add(MaxPooling2D(pool_size = (2,2)))\n",
    "model3triples.add(Dropout(0.4))\n",
    "\n",
    "model3triples.add(Flatten())\n",
    "model3triples.add(Dense(256, activation = \"relu\"))\n",
    "model3triples.add(Dropout(0.4))\n",
    "model3triples.add(Dense(10, activation = \"softmax\"))"
   ]
  },
  {
   "cell_type": "code",
   "execution_count": 17,
   "metadata": {},
   "outputs": [
    {
     "name": "stdout",
     "output_type": "stream",
     "text": [
      "Epoch 1/30\n",
      "1182/1182 [==============================] - 45s 37ms/step - loss: 0.3637 - accuracy: 0.8811 - val_loss: 0.0933 - val_accuracy: 0.9724\n",
      "Epoch 2/30\n",
      "1182/1182 [==============================] - 47s 40ms/step - loss: 0.1118 - accuracy: 0.9673 - val_loss: 0.0580 - val_accuracy: 0.9812\n",
      "Epoch 3/30\n",
      "1182/1182 [==============================] - 45s 38ms/step - loss: 0.0875 - accuracy: 0.9733 - val_loss: 0.0459 - val_accuracy: 0.9860\n",
      "Epoch 4/30\n",
      "1182/1182 [==============================] - 48s 41ms/step - loss: 0.0702 - accuracy: 0.9795 - val_loss: 0.0358 - val_accuracy: 0.9881\n",
      "Epoch 5/30\n",
      "1182/1182 [==============================] - 44s 38ms/step - loss: 0.0663 - accuracy: 0.9803 - val_loss: 0.0331 - val_accuracy: 0.9910\n",
      "Epoch 6/30\n",
      "1182/1182 [==============================] - 47s 39ms/step - loss: 0.0607 - accuracy: 0.9816 - val_loss: 0.0379 - val_accuracy: 0.9879\n",
      "Epoch 7/30\n",
      "1182/1182 [==============================] - 46s 39ms/step - loss: 0.0560 - accuracy: 0.9834 - val_loss: 0.0493 - val_accuracy: 0.9862\n",
      "Epoch 8/30\n",
      "1182/1182 [==============================] - 47s 40ms/step - loss: 0.0543 - accuracy: 0.9837 - val_loss: 0.0333 - val_accuracy: 0.9900\n",
      "Epoch 9/30\n",
      "1182/1182 [==============================] - 45s 38ms/step - loss: 0.0534 - accuracy: 0.9837 - val_loss: 0.0286 - val_accuracy: 0.9921\n",
      "Epoch 10/30\n",
      "1182/1182 [==============================] - 47s 40ms/step - loss: 0.0445 - accuracy: 0.9868 - val_loss: 0.0341 - val_accuracy: 0.9912\n",
      "Epoch 11/30\n",
      "1182/1182 [==============================] - 48s 41ms/step - loss: 0.0465 - accuracy: 0.9856 - val_loss: 0.0347 - val_accuracy: 0.9905\n",
      "Epoch 12/30\n",
      "1182/1182 [==============================] - 44s 37ms/step - loss: 0.0441 - accuracy: 0.9869 - val_loss: 0.0343 - val_accuracy: 0.9910\n",
      "Epoch 13/30\n",
      "1182/1182 [==============================] - 47s 40ms/step - loss: 0.0453 - accuracy: 0.9871 - val_loss: 0.0395 - val_accuracy: 0.9902\n",
      "Epoch 14/30\n",
      "1182/1182 [==============================] - 44s 38ms/step - loss: 0.0456 - accuracy: 0.9871 - val_loss: 0.0325 - val_accuracy: 0.9910\n",
      "Epoch 15/30\n",
      "1182/1182 [==============================] - 46s 39ms/step - loss: 0.0456 - accuracy: 0.9869 - val_loss: 0.0267 - val_accuracy: 0.9926\n",
      "Epoch 16/30\n",
      "1182/1182 [==============================] - 46s 39ms/step - loss: 0.0425 - accuracy: 0.9874 - val_loss: 0.0388 - val_accuracy: 0.9905\n",
      "Epoch 17/30\n",
      "1182/1182 [==============================] - 43s 36ms/step - loss: 0.0448 - accuracy: 0.9863 - val_loss: 0.0275 - val_accuracy: 0.9929\n",
      "Epoch 18/30\n",
      "1182/1182 [==============================] - 45s 38ms/step - loss: 0.0395 - accuracy: 0.9877 - val_loss: 0.0298 - val_accuracy: 0.9919\n",
      "Epoch 19/30\n",
      "1182/1182 [==============================] - 45s 38ms/step - loss: 0.0387 - accuracy: 0.9886 - val_loss: 0.0331 - val_accuracy: 0.9914\n",
      "Epoch 20/30\n",
      "1182/1182 [==============================] - 43s 37ms/step - loss: 0.0404 - accuracy: 0.9880 - val_loss: 0.0272 - val_accuracy: 0.9924\n",
      "Epoch 21/30\n",
      "1182/1182 [==============================] - 45s 38ms/step - loss: 0.0410 - accuracy: 0.9874 - val_loss: 0.0276 - val_accuracy: 0.9945\n",
      "Epoch 22/30\n",
      "1182/1182 [==============================] - 45s 38ms/step - loss: 0.0393 - accuracy: 0.9883 - val_loss: 0.0284 - val_accuracy: 0.9933\n",
      "Epoch 23/30\n",
      "1182/1182 [==============================] - 45s 38ms/step - loss: 0.0425 - accuracy: 0.9875 - val_loss: 0.0307 - val_accuracy: 0.9919\n",
      "Epoch 24/30\n",
      "1182/1182 [==============================] - 45s 38ms/step - loss: 0.0405 - accuracy: 0.9886 - val_loss: 0.0243 - val_accuracy: 0.9933\n",
      "Epoch 25/30\n",
      "1182/1182 [==============================] - 45s 38ms/step - loss: 0.0406 - accuracy: 0.9887 - val_loss: 0.0295 - val_accuracy: 0.9919\n",
      "Epoch 26/30\n",
      "1182/1182 [==============================] - 42s 36ms/step - loss: 0.0375 - accuracy: 0.9890 - val_loss: 0.0325 - val_accuracy: 0.9933\n",
      "Epoch 27/30\n",
      "1182/1182 [==============================] - 48s 41ms/step - loss: 0.0399 - accuracy: 0.9886 - val_loss: 0.0261 - val_accuracy: 0.9929\n",
      "Epoch 28/30\n",
      "1182/1182 [==============================] - 47s 40ms/step - loss: 0.0361 - accuracy: 0.9892 - val_loss: 0.0252 - val_accuracy: 0.9933\n",
      "Epoch 29/30\n",
      "1182/1182 [==============================] - 47s 40ms/step - loss: 0.0373 - accuracy: 0.9889 - val_loss: 0.0302 - val_accuracy: 0.9926\n",
      "Epoch 30/30\n",
      "1182/1182 [==============================] - 47s 40ms/step - loss: 0.0380 - accuracy: 0.9889 - val_loss: 0.0304 - val_accuracy: 0.9931\n"
     ]
    },
    {
     "data": {
      "text/plain": [
       "<keras.callbacks.History at 0x1b3aad058d0>"
      ]
     },
     "execution_count": 17,
     "metadata": {},
     "output_type": "execute_result"
    }
   ],
   "source": [
    "model3triples.compile(optimizer = \"adam\", loss = \"categorical_crossentropy\", \n",
    "              metrics = [\"accuracy\"])\n",
    "model3triples.fit(x_train, y_train, epochs = 30, validation_data = (x_val, y_val))"
   ]
  },
  {
   "attachments": {},
   "cell_type": "markdown",
   "metadata": {},
   "source": [
    "## Evaluation\n",
    "Using the best combination from above: "
   ]
  },
  {
   "cell_type": "code",
   "execution_count": 18,
   "metadata": {},
   "outputs": [
    {
     "name": "stdout",
     "output_type": "stream",
     "text": [
      "132/132 [==============================] - 1s 4ms/step\n"
     ]
    },
    {
     "data": {
      "text/plain": [
       "0.9930952380952381"
      ]
     },
     "execution_count": 18,
     "metadata": {},
     "output_type": "execute_result"
    }
   ],
   "source": [
    "y_pred = model3triples.predict(x_val)\n",
    "y_pred_classes = np.argmax(y_pred, axis = 1)\n",
    "y_true = np.argmax(y_val, axis = 1) \n",
    "accuracy_score(y_true, y_pred_classes)"
   ]
  },
  {
   "attachments": {},
   "cell_type": "markdown",
   "metadata": {},
   "source": [
    "### Confusion matrix"
   ]
  },
  {
   "cell_type": "code",
   "execution_count": 19,
   "metadata": {},
   "outputs": [
    {
     "data": {
      "text/plain": [
       "array([[410,   0,   1,   0,   0,   0,   0,   0,   0,   0],\n",
       "       [  0, 483,   0,   0,   0,   0,   0,   1,   1,   0],\n",
       "       [  0,   0, 403,   0,   0,   0,   0,   0,   0,   0],\n",
       "       [  1,   0,   0, 414,   0,   1,   0,   0,   2,   0],\n",
       "       [  0,   0,   1,   0, 456,   0,   1,   0,   0,   3],\n",
       "       [  0,   0,   0,   1,   0, 367,   3,   0,   1,   0],\n",
       "       [  1,   1,   0,   0,   0,   0, 410,   0,   1,   0],\n",
       "       [  0,   0,   1,   0,   0,   0,   0, 445,   0,   0],\n",
       "       [  0,   0,   0,   0,   0,   0,   0,   0, 381,   1],\n",
       "       [  1,   0,   0,   0,   3,   0,   0,   2,   1, 402]], dtype=int64)"
      ]
     },
     "execution_count": 19,
     "metadata": {},
     "output_type": "execute_result"
    }
   ],
   "source": [
    "confusion_matrix(y_true, y_pred_classes)"
   ]
  },
  {
   "attachments": {},
   "cell_type": "markdown",
   "metadata": {},
   "source": [
    "### Running it on the test set and preparing the submission file"
   ]
  },
  {
   "cell_type": "code",
   "execution_count": 20,
   "metadata": {},
   "outputs": [
    {
     "name": "stdout",
     "output_type": "stream",
     "text": [
      "875/875 [==============================] - 4s 4ms/step\n"
     ]
    }
   ],
   "source": [
    "# predicting the test set images\n",
    "results = model3triples.predict(test)\n",
    "results = np.argmax(results, axis = 1)\n",
    "results = pd.Series(results, name = \"Label\")"
   ]
  },
  {
   "cell_type": "code",
   "execution_count": 21,
   "metadata": {},
   "outputs": [],
   "source": [
    "# converting the dataframe into a csv file\n",
    "submission = pd.concat([pd.Series(range(1,28001), name = \"ImageId\"), results], axis = 1)\n",
    "submission.to_csv(\"./data/submission.csv\", index = False)"
   ]
  }
 ],
 "metadata": {
  "kernelspec": {
   "display_name": "dm",
   "language": "python",
   "name": "python3"
  },
  "language_info": {
   "codemirror_mode": {
    "name": "ipython",
    "version": 3
   },
   "file_extension": ".py",
   "mimetype": "text/x-python",
   "name": "python",
   "nbconvert_exporter": "python",
   "pygments_lexer": "ipython3",
   "version": "3.10.8"
  },
  "orig_nbformat": 4,
  "vscode": {
   "interpreter": {
    "hash": "6a28cd90ab7370ee8139c294f0b491a85c59cce1746513959106cf97723da925"
   }
  }
 },
 "nbformat": 4,
 "nbformat_minor": 2
}
