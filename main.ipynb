{
 "cells": [
  {
   "attachments": {},
   "cell_type": "markdown",
   "metadata": {},
   "source": [
    "# MNIST Digit Recognizing with CNN"
   ]
  },
  {
   "cell_type": "code",
   "execution_count": 1,
   "metadata": {},
   "outputs": [],
   "source": [
    "import numpy as np\n",
    "import pandas as pd\n",
    "import matplotlib.pyplot as plt\n",
    "\n",
    "from sklearn.model_selection import train_test_split\n",
    "from sklearn.metrics import confusion_matrix\n",
    "\n",
    "import tensorflow as tf\n",
    "from tensorflow import keras\n",
    "from keras.utils.np_utils import to_categorical\n",
    "from keras.models import Sequential\n",
    "from keras.layers import Dense, Conv2D, Dropout, Flatten, MaxPooling2D"
   ]
  },
  {
   "attachments": {},
   "cell_type": "markdown",
   "metadata": {},
   "source": [
    "## Loading, preparing and exploring the dataset"
   ]
  },
  {
   "cell_type": "code",
   "execution_count": 19,
   "metadata": {},
   "outputs": [
    {
     "data": {
      "text/plain": [
       "(42000, 784)"
      ]
     },
     "execution_count": 19,
     "metadata": {},
     "output_type": "execute_result"
    }
   ],
   "source": [
    "train = pd.read_csv(\"./data/train.csv\")\n",
    "test = pd.read_csv(\"./data/test.csv\")\n",
    "y_train = train[\"label\"]\n",
    "x_train = train.drop(labels = [\"label\"], axis = 1)\n",
    "del train\n",
    "\n",
    "x_train.shape"
   ]
  },
  {
   "cell_type": "code",
   "execution_count": 20,
   "metadata": {},
   "outputs": [],
   "source": [
    "# Reshaping for Keras\n",
    "x_train = x_train.values.reshape(-1, 28, 28, 1)\n",
    "test = test.values.reshape(-1, 28, 28, 1)\n",
    "\n",
    "# Normalizing the values\n",
    "x_train = x_train.astype(\"float\")\n",
    "test = test.astype(\"float\")\n",
    "x_train /= 255.0\n",
    "test /= 255.0"
   ]
  },
  {
   "cell_type": "code",
   "execution_count": 21,
   "metadata": {},
   "outputs": [],
   "source": [
    "# making the labels categorical\n",
    "y_train = to_categorical(y_train, num_classes = 10)"
   ]
  },
  {
   "cell_type": "code",
   "execution_count": 22,
   "metadata": {},
   "outputs": [],
   "source": [
    "# splitting the training data into training and validation set\n",
    "x_train, x_val, y_train, y_val = train_test_split(x_train, y_train, test_size = 0.1, random_state=2)"
   ]
  },
  {
   "cell_type": "code",
   "execution_count": 67,
   "metadata": {},
   "outputs": [
    {
     "name": "stdout",
     "output_type": "stream",
     "text": [
      "The label of this image is:  [0. 0. 0. 0. 0. 0. 0. 1. 0. 0.]\n"
     ]
    },
    {
     "data": {
      "text/plain": [
       "<matplotlib.image.AxesImage at 0x1ac8ca17730>"
      ]
     },
     "execution_count": 67,
     "metadata": {},
     "output_type": "execute_result"
    },
    {
     "data": {
      "image/png": "[encoded data removed]",
      "text/plain": [
       "<Figure size 640x480 with 1 Axes>"
      ]
     },
     "metadata": {},
     "output_type": "display_data"
    }
   ],
   "source": [
    "# checking out one random image and its label\n",
    "print(\"The label of this image is: \", y_train[123])\n",
    "plt.imshow(x_train[123], cmap=\"Greys\")"
   ]
  },
  {
   "attachments": {},
   "cell_type": "markdown",
   "metadata": {},
   "source": [
    "## CNN\n",
    "I'll try and compare the performance of having two Conv2D layers and Pooling layers once, twice and three times with ascending filter numbers (see below).\n",
    "### Once the Conv2D layers and Pooling layer (32)"
   ]
  },
  {
   "cell_type": "code",
   "execution_count": null,
   "metadata": {},
   "outputs": [],
   "source": [
    "model = Sequential()\n",
    "model.add(Conv2D(32, kernel_size=(3,3), padding = \"Same\", activation = \"relu\", input_shape=(28, 28, 1)))\n",
    "model.add(Conv2D(32, kernel_size=(3,3), padding = \"Same\", activation = \"relu\"))\n",
    "model.add(MaxPooling2D(pool_size=(2, 2)))\n",
    "model.add(Dropout(0.4))\n",
    "\n",
    "model.add(Flatten())\n",
    "model.add(Dense(256, activation=\"relu\"))\n",
    "model.add(Dropout(0.4))\n",
    "model.add(Dense(10,activation=\"softmax\"))"
   ]
  },
  {
   "cell_type": "code",
   "execution_count": null,
   "metadata": {},
   "outputs": [],
   "source": [
    "model.compile(optimizer=\"adam\", \n",
    "              loss=\"categorical_crossentropy\", \n",
    "              metrics=[\"accuracy\"])\n",
    "model.fit(x_train, y_train, epochs=30, validation_data = (x_val, y_val))"
   ]
  },
  {
   "attachments": {},
   "cell_type": "markdown",
   "metadata": {},
   "source": [
    "### Twice the Conv2D and Pooling layers (32, 64)"
   ]
  },
  {
   "cell_type": "code",
   "execution_count": 63,
   "metadata": {},
   "outputs": [],
   "source": [
    "model2triples = Sequential()\n",
    "model2triples.add(Conv2D(32, kernel_size=(3,3), padding = \"Same\", activation = \"relu\", input_shape=(28, 28, 1)))\n",
    "model2triples.add(Conv2D(32, kernel_size=(3,3), padding = \"Same\", activation = \"relu\"))\n",
    "model2triples.add(MaxPooling2D(pool_size=(2, 2)))\n",
    "model2triples.add(Dropout(0.4))\n",
    "\n",
    "model2triples.add(Conv2D(64, kernel_size=(3,3), padding = \"Same\", activation = \"relu\"))\n",
    "model2triples.add(Conv2D(64, kernel_size=(3,3), padding = \"Same\", activation = \"relu\"))\n",
    "model2triples.add(MaxPooling2D(pool_size=(2, 2)))\n",
    "model2triples.add(Dropout(0.4))\n",
    "\n",
    "model2triples.add(Flatten())\n",
    "model2triples.add(Dense(256, activation=\"relu\"))\n",
    "model2triples.add(Dropout(0.4))\n",
    "model2triples.add(Dense(10,activation=\"softmax\"))"
   ]
  },
  {
   "cell_type": "code",
   "execution_count": 64,
   "metadata": {},
   "outputs": [
    {
     "name": "stdout",
     "output_type": "stream",
     "text": [
      "Epoch 1/30\n",
      "1182/1182 [==============================] - 27s 22ms/step - loss: 0.2244 - accuracy: 0.9294 - val_loss: 0.0688 - val_accuracy: 0.9793\n",
      "Epoch 2/30\n",
      "1182/1182 [==============================] - 26s 22ms/step - loss: 0.0818 - accuracy: 0.9744 - val_loss: 0.0562 - val_accuracy: 0.9812\n",
      "Epoch 3/30\n",
      "1182/1182 [==============================] - 25s 21ms/step - loss: 0.0642 - accuracy: 0.9813 - val_loss: 0.0312 - val_accuracy: 0.9895\n",
      "Epoch 4/30\n",
      "1182/1182 [==============================] - 26s 22ms/step - loss: 0.0514 - accuracy: 0.9842 - val_loss: 0.0306 - val_accuracy: 0.9907\n",
      "Epoch 5/30\n",
      "1182/1182 [==============================] - 26s 22ms/step - loss: 0.0474 - accuracy: 0.9848 - val_loss: 0.0278 - val_accuracy: 0.9912\n",
      "Epoch 6/30\n",
      "1182/1182 [==============================] - 28s 24ms/step - loss: 0.0409 - accuracy: 0.9874 - val_loss: 0.0297 - val_accuracy: 0.9900\n",
      "Epoch 7/30\n",
      "1182/1182 [==============================] - 29s 24ms/step - loss: 0.0368 - accuracy: 0.9883 - val_loss: 0.0262 - val_accuracy: 0.9919\n",
      "Epoch 8/30\n",
      "1182/1182 [==============================] - 27s 23ms/step - loss: 0.0331 - accuracy: 0.9897 - val_loss: 0.0265 - val_accuracy: 0.9926\n",
      "Epoch 9/30\n",
      "1182/1182 [==============================] - 26s 22ms/step - loss: 0.0326 - accuracy: 0.9903 - val_loss: 0.0246 - val_accuracy: 0.9917\n",
      "Epoch 10/30\n",
      "1182/1182 [==============================] - 27s 23ms/step - loss: 0.0296 - accuracy: 0.9912 - val_loss: 0.0307 - val_accuracy: 0.9919\n",
      "Epoch 11/30\n",
      "1182/1182 [==============================] - 26s 22ms/step - loss: 0.0298 - accuracy: 0.9911 - val_loss: 0.0242 - val_accuracy: 0.9926\n",
      "Epoch 12/30\n",
      "1182/1182 [==============================] - 27s 22ms/step - loss: 0.0262 - accuracy: 0.9920 - val_loss: 0.0247 - val_accuracy: 0.9948\n",
      "Epoch 13/30\n",
      "1182/1182 [==============================] - 26s 22ms/step - loss: 0.0274 - accuracy: 0.9917 - val_loss: 0.0245 - val_accuracy: 0.9914\n",
      "Epoch 14/30\n",
      "1182/1182 [==============================] - 26s 22ms/step - loss: 0.0242 - accuracy: 0.9924 - val_loss: 0.0274 - val_accuracy: 0.9931\n",
      "Epoch 15/30\n",
      "1182/1182 [==============================] - 26s 22ms/step - loss: 0.0255 - accuracy: 0.9923 - val_loss: 0.0250 - val_accuracy: 0.9929\n",
      "Epoch 16/30\n",
      "1182/1182 [==============================] - 26s 22ms/step - loss: 0.0221 - accuracy: 0.9930 - val_loss: 0.0249 - val_accuracy: 0.9933\n",
      "Epoch 17/30\n",
      "1182/1182 [==============================] - 26s 22ms/step - loss: 0.0251 - accuracy: 0.9926 - val_loss: 0.0277 - val_accuracy: 0.9924\n",
      "Epoch 18/30\n",
      "1182/1182 [==============================] - 27s 23ms/step - loss: 0.0225 - accuracy: 0.9931 - val_loss: 0.0244 - val_accuracy: 0.9929\n",
      "Epoch 19/30\n",
      "1182/1182 [==============================] - 26s 22ms/step - loss: 0.0198 - accuracy: 0.9940 - val_loss: 0.0258 - val_accuracy: 0.9936\n",
      "Epoch 20/30\n",
      "1182/1182 [==============================] - 26s 22ms/step - loss: 0.0212 - accuracy: 0.9933 - val_loss: 0.0273 - val_accuracy: 0.9921\n",
      "Epoch 21/30\n",
      "1182/1182 [==============================] - 26s 22ms/step - loss: 0.0218 - accuracy: 0.9933 - val_loss: 0.0254 - val_accuracy: 0.9938\n",
      "Epoch 22/30\n",
      "1182/1182 [==============================] - 32s 27ms/step - loss: 0.0213 - accuracy: 0.9937 - val_loss: 0.0231 - val_accuracy: 0.9943\n",
      "Epoch 23/30\n",
      "1182/1182 [==============================] - 28s 23ms/step - loss: 0.0202 - accuracy: 0.9940 - val_loss: 0.0234 - val_accuracy: 0.9945\n",
      "Epoch 24/30\n",
      "1182/1182 [==============================] - 27s 23ms/step - loss: 0.0205 - accuracy: 0.9938 - val_loss: 0.0265 - val_accuracy: 0.9938\n",
      "Epoch 25/30\n",
      "1182/1182 [==============================] - 28s 23ms/step - loss: 0.0173 - accuracy: 0.9954 - val_loss: 0.0239 - val_accuracy: 0.9931\n",
      "Epoch 26/30\n",
      "1182/1182 [==============================] - 29s 24ms/step - loss: 0.0200 - accuracy: 0.9942 - val_loss: 0.0257 - val_accuracy: 0.9926\n",
      "Epoch 27/30\n",
      "1182/1182 [==============================] - 25s 21ms/step - loss: 0.0191 - accuracy: 0.9944 - val_loss: 0.0290 - val_accuracy: 0.9929\n",
      "Epoch 28/30\n",
      "1182/1182 [==============================] - 25s 21ms/step - loss: 0.0188 - accuracy: 0.9940 - val_loss: 0.0252 - val_accuracy: 0.9931\n",
      "Epoch 29/30\n",
      "1182/1182 [==============================] - 26s 22ms/step - loss: 0.0169 - accuracy: 0.9948 - val_loss: 0.0314 - val_accuracy: 0.9926\n",
      "Epoch 30/30\n",
      "1182/1182 [==============================] - 27s 22ms/step - loss: 0.0172 - accuracy: 0.9947 - val_loss: 0.0302 - val_accuracy: 0.9938\n"
     ]
    },
    {
     "data": {
      "text/plain": [
       "<keras.callbacks.History at 0x1ac8816cdc0>"
      ]
     },
     "execution_count": 64,
     "metadata": {},
     "output_type": "execute_result"
    }
   ],
   "source": [
    "model2triples.compile(optimizer=\"adam\", \n",
    "              loss=\"categorical_crossentropy\", \n",
    "              metrics=[\"accuracy\"])\n",
    "model2triples.fit(x_train, y_train, epochs=30, validation_data = (x_val, y_val))"
   ]
  },
  {
   "attachments": {},
   "cell_type": "markdown",
   "metadata": {},
   "source": [
    "### Three times the Conv2D and Pooling layers (24, 48, 64)"
   ]
  },
  {
   "cell_type": "code",
   "execution_count": 65,
   "metadata": {},
   "outputs": [],
   "source": [
    "model3triples = Sequential()\n",
    "model3triples.add(Conv2D(24, kernel_size=(3,3), padding = \"Same\", activation = \"relu\", input_shape=(28, 28, 1)))\n",
    "model3triples.add(Conv2D(64, kernel_size=(3,3), padding = \"Same\", activation = \"relu\"))\n",
    "model3triples.add(MaxPooling2D(pool_size=(2, 2)))\n",
    "model3triples.add(Dropout(0.4))\n",
    "\n",
    "model3triples.add(Conv2D(48, kernel_size=(3,3), padding = \"Same\", activation = \"relu\"))\n",
    "model3triples.add(Conv2D(48, kernel_size=(3,3), padding = \"Same\", activation = \"relu\"))\n",
    "model3triples.add(MaxPooling2D(pool_size=(2, 2)))\n",
    "model3triples.add(Dropout(0.4))\n",
    "\n",
    "model3triples.add(Conv2D(64, kernel_size=(3,3), padding = \"Same\", activation = \"relu\"))\n",
    "model3triples.add(Conv2D(64, kernel_size=(3,3), padding = \"Same\", activation = \"relu\"))\n",
    "model3triples.add(MaxPooling2D(pool_size=(2, 2)))\n",
    "model3triples.add(Dropout(0.4))\n",
    "\n",
    "model3triples.add(Flatten())\n",
    "model3triples.add(Dense(256, activation=\"relu\"))\n",
    "model3triples.add(Dropout(0.4))\n",
    "model3triples.add(Dense(10,activation=\"softmax\"))"
   ]
  },
  {
   "cell_type": "code",
   "execution_count": 66,
   "metadata": {},
   "outputs": [
    {
     "name": "stdout",
     "output_type": "stream",
     "text": [
      "Epoch 1/30\n",
      "1182/1182 [==============================] - 42s 35ms/step - loss: 0.3419 - accuracy: 0.8884 - val_loss: 0.0593 - val_accuracy: 0.9848\n",
      "Epoch 2/30\n",
      "1182/1182 [==============================] - 39s 33ms/step - loss: 0.1015 - accuracy: 0.9701 - val_loss: 0.0464 - val_accuracy: 0.9879\n",
      "Epoch 3/30\n",
      "1182/1182 [==============================] - 40s 34ms/step - loss: 0.0783 - accuracy: 0.9764 - val_loss: 0.0371 - val_accuracy: 0.9902\n",
      "Epoch 4/30\n",
      "1182/1182 [==============================] - 41s 35ms/step - loss: 0.0672 - accuracy: 0.9797 - val_loss: 0.0385 - val_accuracy: 0.9883\n",
      "Epoch 5/30\n",
      "1182/1182 [==============================] - 41s 35ms/step - loss: 0.0612 - accuracy: 0.9818 - val_loss: 0.0324 - val_accuracy: 0.9898\n",
      "Epoch 6/30\n",
      "1182/1182 [==============================] - 40s 34ms/step - loss: 0.0540 - accuracy: 0.9836 - val_loss: 0.0322 - val_accuracy: 0.9910\n",
      "Epoch 7/30\n",
      "1182/1182 [==============================] - 40s 34ms/step - loss: 0.0511 - accuracy: 0.9849 - val_loss: 0.0339 - val_accuracy: 0.9905\n",
      "Epoch 8/30\n",
      "1182/1182 [==============================] - 39s 33ms/step - loss: 0.0492 - accuracy: 0.9853 - val_loss: 0.0312 - val_accuracy: 0.9900\n",
      "Epoch 9/30\n",
      "1182/1182 [==============================] - 39s 33ms/step - loss: 0.0468 - accuracy: 0.9866 - val_loss: 0.0336 - val_accuracy: 0.9898\n",
      "Epoch 10/30\n",
      "1182/1182 [==============================] - 39s 33ms/step - loss: 0.0453 - accuracy: 0.9868 - val_loss: 0.0352 - val_accuracy: 0.9902\n",
      "Epoch 11/30\n",
      "1182/1182 [==============================] - 39s 33ms/step - loss: 0.0423 - accuracy: 0.9878 - val_loss: 0.0302 - val_accuracy: 0.9912\n",
      "Epoch 12/30\n",
      "1182/1182 [==============================] - 40s 34ms/step - loss: 0.0414 - accuracy: 0.9881 - val_loss: 0.0287 - val_accuracy: 0.9907\n",
      "Epoch 13/30\n",
      "1182/1182 [==============================] - 41s 35ms/step - loss: 0.0429 - accuracy: 0.9875 - val_loss: 0.0253 - val_accuracy: 0.9931\n",
      "Epoch 14/30\n",
      "1182/1182 [==============================] - 38s 32ms/step - loss: 0.0407 - accuracy: 0.9885 - val_loss: 0.0348 - val_accuracy: 0.9898\n",
      "Epoch 15/30\n",
      "1182/1182 [==============================] - 39s 33ms/step - loss: 0.0419 - accuracy: 0.9876 - val_loss: 0.0289 - val_accuracy: 0.9919\n",
      "Epoch 16/30\n",
      "1182/1182 [==============================] - 42s 35ms/step - loss: 0.0405 - accuracy: 0.9879 - val_loss: 0.0256 - val_accuracy: 0.9926\n",
      "Epoch 17/30\n",
      "1182/1182 [==============================] - 40s 34ms/step - loss: 0.0408 - accuracy: 0.9885 - val_loss: 0.0395 - val_accuracy: 0.9902\n",
      "Epoch 18/30\n",
      "1182/1182 [==============================] - 41s 35ms/step - loss: 0.0385 - accuracy: 0.9886 - val_loss: 0.0317 - val_accuracy: 0.9910\n",
      "Epoch 19/30\n",
      "1182/1182 [==============================] - 42s 36ms/step - loss: 0.0404 - accuracy: 0.9878 - val_loss: 0.0339 - val_accuracy: 0.9893\n",
      "Epoch 20/30\n",
      "1182/1182 [==============================] - 39s 33ms/step - loss: 0.0368 - accuracy: 0.9894 - val_loss: 0.0272 - val_accuracy: 0.9921\n",
      "Epoch 21/30\n",
      "1182/1182 [==============================] - 39s 33ms/step - loss: 0.0403 - accuracy: 0.9889 - val_loss: 0.0383 - val_accuracy: 0.9900\n",
      "Epoch 22/30\n",
      "1182/1182 [==============================] - 39s 33ms/step - loss: 0.0413 - accuracy: 0.9874 - val_loss: 0.0308 - val_accuracy: 0.9917\n",
      "Epoch 23/30\n",
      "1182/1182 [==============================] - 40s 34ms/step - loss: 0.0375 - accuracy: 0.9898 - val_loss: 0.0321 - val_accuracy: 0.9917\n",
      "Epoch 24/30\n",
      "1182/1182 [==============================] - 39s 33ms/step - loss: 0.0388 - accuracy: 0.9889 - val_loss: 0.0306 - val_accuracy: 0.9921\n",
      "Epoch 25/30\n",
      "1182/1182 [==============================] - 38s 32ms/step - loss: 0.0370 - accuracy: 0.9895 - val_loss: 0.0420 - val_accuracy: 0.9914\n",
      "Epoch 26/30\n",
      "1182/1182 [==============================] - 38s 32ms/step - loss: 0.0357 - accuracy: 0.9895 - val_loss: 0.0268 - val_accuracy: 0.9933\n",
      "Epoch 27/30\n",
      "1182/1182 [==============================] - 42s 36ms/step - loss: 0.0373 - accuracy: 0.9897 - val_loss: 0.0349 - val_accuracy: 0.9905\n",
      "Epoch 28/30\n",
      "1182/1182 [==============================] - 38s 32ms/step - loss: 0.0367 - accuracy: 0.9894 - val_loss: 0.0323 - val_accuracy: 0.9926\n",
      "Epoch 29/30\n",
      "1182/1182 [==============================] - 40s 34ms/step - loss: 0.0367 - accuracy: 0.9895 - val_loss: 0.0331 - val_accuracy: 0.9917\n",
      "Epoch 30/30\n",
      "1182/1182 [==============================] - 40s 34ms/step - loss: 0.0335 - accuracy: 0.9901 - val_loss: 0.0277 - val_accuracy: 0.9931\n"
     ]
    },
    {
     "data": {
      "text/plain": [
       "<keras.callbacks.History at 0x1ac8c741c90>"
      ]
     },
     "execution_count": 66,
     "metadata": {},
     "output_type": "execute_result"
    }
   ],
   "source": [
    "model3triples.compile(optimizer=\"adam\", \n",
    "              loss=\"categorical_crossentropy\", \n",
    "              metrics=[\"accuracy\"])\n",
    "model3triples.fit(x_train, y_train, epochs=30, validation_data = (x_val, y_val))"
   ]
  },
  {
   "attachments": {},
   "cell_type": "markdown",
   "metadata": {},
   "source": [
    "## Evaluation"
   ]
  },
  {
   "attachments": {},
   "cell_type": "markdown",
   "metadata": {},
   "source": [
    "### Confusion matrix"
   ]
  },
  {
   "cell_type": "code",
   "execution_count": 26,
   "metadata": {},
   "outputs": [
    {
     "name": "stdout",
     "output_type": "stream",
     "text": [
      "132/132 [==============================] - 2s 13ms/step\n"
     ]
    },
    {
     "data": {
      "text/plain": [
       "array([[401,   0,   3,   0,   0,   0,   3,   1,   0,   0],\n",
       "       [  0, 469,   1,   0,   0,   0,   0,   1,   0,   0],\n",
       "       [  0,   1, 413,   0,   3,   0,   0,   1,   1,   1],\n",
       "       [  0,   0,   1, 499,   0,   2,   0,   1,   3,   0],\n",
       "       [  0,   0,   0,   0, 386,   0,   2,   1,   0,   8],\n",
       "       [  0,   0,   1,   3,   0, 329,   1,   0,   1,   4],\n",
       "       [  2,   0,   1,   0,   0,   1, 396,   0,   2,   0],\n",
       "       [  0,   0,   4,   0,   0,   0,   0, 430,   0,   4],\n",
       "       [  1,   0,   2,   2,   1,   1,   0,   1, 395,   0],\n",
       "       [  0,   0,   1,   2,   0,   0,   0,   1,   2, 410]], dtype=int64)"
      ]
     },
     "execution_count": 26,
     "metadata": {},
     "output_type": "execute_result"
    }
   ],
   "source": [
    "y_pred = model.predict(x_val)\n",
    "y_pred_classes = np.argmax(y_pred,axis = 1)\n",
    "y_true = np.argmax(y_val,axis = 1) \n",
    "confusion_matrix(y_true, y_pred_classes)"
   ]
  },
  {
   "attachments": {},
   "cell_type": "markdown",
   "metadata": {},
   "source": [
    "### Running it on the test set and preparing the submission file"
   ]
  },
  {
   "cell_type": "code",
   "execution_count": null,
   "metadata": {},
   "outputs": [],
   "source": [
    "# predicting the test set images\n",
    "results = model.predict(test)\n",
    "results = np.argmax(results,axis = 1)\n",
    "results = pd.Series(results,name=\"Label\")"
   ]
  },
  {
   "cell_type": "code",
   "execution_count": 30,
   "metadata": {},
   "outputs": [],
   "source": [
    "# converting the dataframe into a csv file\n",
    "submission = pd.concat([pd.Series(range(1,28001),name = \"ImageId\"),results],axis = 1)\n",
    "submission.to_csv(\"./data/first_cnn.csv\",index=False)"
   ]
  }
 ],
 "metadata": {
  "kernelspec": {
   "display_name": "dm",
   "language": "python",
   "name": "python3"
  },
  "language_info": {
   "codemirror_mode": {
    "name": "ipython",
    "version": 3
   },
   "file_extension": ".py",
   "mimetype": "text/x-python",
   "name": "python",
   "nbconvert_exporter": "python",
   "pygments_lexer": "ipython3",
   "version": "3.10.8"
  },
  "orig_nbformat": 4,
  "vscode": {
   "interpreter": {
    "hash": "6a28cd90ab7370ee8139c294f0b491a85c59cce1746513959106cf97723da925"
   }
  }
 },
 "nbformat": 4,
 "nbformat_minor": 2
}
